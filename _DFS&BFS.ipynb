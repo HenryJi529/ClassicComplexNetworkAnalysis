{
 "cells": [
  {
   "cell_type": "code",
   "execution_count": 1,
   "metadata": {},
   "outputs": [],
   "source": [
    "import random\n",
    "\n",
    "from matplotlib import pyplot as plt\n",
    "plt.rcParams['font.family'] = 'serif'  # 'serif', 'sans-serif', 'monospace', 'fantasy', 'cursive'\n",
    "plt.rcParams['font.serif'] = ['Times New Roman']\n",
    "cnFont = {'fontname':'Songti SC', 'color':'darkred', 'weight':'bold', 'size':30}\n",
    "\n",
    "import networkx as nx"
   ]
  },
  {
   "cell_type": "code",
   "execution_count": 2,
   "metadata": {},
   "outputs": [],
   "source": [
    "class Queue:\n",
    "    def __init__(self):\n",
    "        self.items = []\n",
    "    def enqueue(self, item):\n",
    "        self.items.append(item)\n",
    "    def dequeue(self):\n",
    "        return self.items.pop(0)\n",
    "    def is_empty(self):\n",
    "        return len(self.items) == 0\n",
    "    def __str__(self):\n",
    "        return str(self.items)\n",
    "\n",
    "class Stack:\n",
    "    def __init__(self):\n",
    "        self.items = []\n",
    "    def push(self, item):\n",
    "        self.items.append(item)\n",
    "    def pop(self):\n",
    "        return self.items.pop()\n",
    "    def is_empty(self):\n",
    "        return len(self.items) == 0\n",
    "    def __str__(self):\n",
    "        return str(self.items)"
   ]
  },
  {
   "cell_type": "markdown",
   "metadata": {},
   "source": [
    "## 准备数据"
   ]
  },
  {
   "cell_type": "code",
   "execution_count": 3,
   "metadata": {},
   "outputs": [
    {
     "data": {
      "image/png": "[encoded data removed]",
      "text/plain": [
       "<Figure size 640x480 with 1 Axes>"
      ]
     },
     "metadata": {},
     "output_type": "display_data"
    }
   ],
   "source": [
    "G = nx.barabasi_albert_graph(5,2)\n",
    "# 绘制网络图，按度值大小设定节点大小和颜色\n",
    "# 设置节点大小与度成正比\n",
    "nodeSize = [G.degree(i)*100 for i in G.nodes()]\n",
    "node_colors = [G.degree(i) for i in G.nodes()]\n",
    "options = {\n",
    "    'pos': nx.spring_layout(G),\n",
    "    'node_size': nodeSize,\n",
    "    'node_color': node_colors,\n",
    "    'cmap': plt.cm.cool, # 设置节点colormap\n",
    "    'edge_color': \"gray\",\n",
    "    'with_labels': True,\n",
    "}\n",
    "nx.draw(G, **options)\n",
    "plt.show()"
   ]
  },
  {
   "cell_type": "markdown",
   "metadata": {},
   "source": [
    "## DFS"
   ]
  },
  {
   "cell_type": "code",
   "execution_count": 4,
   "metadata": {},
   "outputs": [
    {
     "name": "stdout",
     "output_type": "stream",
     "text": [
      "起始点: 2\n",
      "当前栈状态: [2]\n",
      "    处理元素2\n",
      "    已处理元素: [2]\n",
      "当前栈状态: [0]\n",
      "    处理元素0\n",
      "    已处理元素: [2, 0]\n",
      "当前栈状态: [1, 3]\n",
      "    处理元素3\n",
      "    已处理元素: [2, 0, 3]\n",
      "当前栈状态: [1, 4]\n",
      "    处理元素4\n",
      "    已处理元素: [2, 0, 3, 4]\n",
      "当前栈状态: [1]\n",
      "    处理元素1\n",
      "    已处理元素: [2, 0, 3, 4, 1]\n",
      "处理完成。。。\n"
     ]
    }
   ],
   "source": [
    "def DFS(graph, start):\n",
    "    all = list(graph.nodes())\n",
    "    done = []\n",
    "    stack.push(start)\n",
    "    print(f\"当前栈状态: {stack}\")\n",
    "    \n",
    "    while not stack.is_empty():\n",
    "        topNode = stack.pop()\n",
    "        print(f\"    处理元素{topNode}\")\n",
    "        done.append(topNode)\n",
    "        print(f\"    已处理元素: {done}\")\n",
    "        if(set(done)==set(all)):\n",
    "            print(\"处理完成。。。\")\n",
    "            return\n",
    "        for node in graph.neighbors(topNode):\n",
    "            if node in done or node in stack.items:\n",
    "                continue\n",
    "            stack.push(node)\n",
    "        print(f\"当前栈状态: {stack}\")\n",
    "\n",
    "\n",
    "stack = Stack()\n",
    "numNodes = G.number_of_nodes()\n",
    "start = list(G.nodes())[random.randint(0, numNodes-1)]\n",
    "print(f\"起始点: {start}\")\n",
    "DFS(G, start)"
   ]
  },
  {
   "cell_type": "markdown",
   "metadata": {},
   "source": [
    "## BFS"
   ]
  },
  {
   "cell_type": "code",
   "execution_count": 5,
   "metadata": {},
   "outputs": [
    {
     "name": "stdout",
     "output_type": "stream",
     "text": [
      "起始点: 3\n",
      "当前栈状态: [3]\n",
      "    处理元素3\n",
      "    已处理元素: [3]\n",
      "当前栈状态: [0, 1, 4]\n",
      "    处理元素0\n",
      "    已处理元素: [3, 0]\n",
      "当前栈状态: [1, 4, 2]\n",
      "    处理元素1\n",
      "    已处理元素: [3, 0, 1]\n",
      "当前栈状态: [4, 2]\n",
      "    处理元素4\n",
      "    已处理元素: [3, 0, 1, 4]\n",
      "当前栈状态: [2]\n",
      "    处理元素2\n",
      "    已处理元素: [3, 0, 1, 4, 2]\n",
      "处理完成。。。\n"
     ]
    }
   ],
   "source": [
    "def BFS(graph, start):\n",
    "    all = list(graph.nodes())\n",
    "    done = []\n",
    "    queue.enqueue(start)\n",
    "    print(f\"当前栈状态: {queue}\")\n",
    "    \n",
    "    while not queue.is_empty():\n",
    "        firstNode = queue.dequeue()\n",
    "        print(f\"    处理元素{firstNode}\")\n",
    "        done.append(firstNode)\n",
    "        print(f\"    已处理元素: {done}\")\n",
    "        if(set(done)==set(all)):\n",
    "            print(\"处理完成。。。\")\n",
    "            return\n",
    "        for node in graph.neighbors(firstNode):\n",
    "            if node in done or node in queue.items:\n",
    "                continue\n",
    "            queue.enqueue(node)\n",
    "        print(f\"当前栈状态: {queue}\")\n",
    "\n",
    "\n",
    "queue = Queue()\n",
    "numNodes = G.number_of_nodes()\n",
    "start = list(G.nodes())[random.randint(0, numNodes-1)]\n",
    "print(f\"起始点: {start}\")\n",
    "BFS(G, start)"
   ]
  },
  {
   "cell_type": "code",
   "execution_count": null,
   "metadata": {},
   "outputs": [],
   "source": []
  }
 ],
 "metadata": {
  "kernelspec": {
   "display_name": "VENV",
   "language": "python",
   "name": "python3"
  },
  "language_info": {
   "codemirror_mode": {
    "name": "ipython",
    "version": 3
   },
   "file_extension": ".py",
   "mimetype": "text/x-python",
   "name": "python",
   "nbconvert_exporter": "python",
   "pygments_lexer": "ipython3",
   "version": "3.9.17"
  },
  "orig_nbformat": 4
 },
 "nbformat": 4,
 "nbformat_minor": 2
}
